{
 "cells": [
  {
   "cell_type": "markdown",
   "id": "b6b336e1-9eaa-4848-816e-18b45016bd3d",
   "metadata": {
    "jp-MarkdownHeadingCollapsed": true,
    "tags": []
   },
   "source": [
    "# PART-1 : THEORETICAL QUESTIONS"
   ]
  },
  {
   "cell_type": "markdown",
   "id": "8b3c88ec-8f51-4458-8d41-5d34bb60c726",
   "metadata": {
    "jp-MarkdownHeadingCollapsed": true,
    "tags": []
   },
   "source": [
    "## Tc What are the different data structures used in Tensorflow?. Give some examplesc"
   ]
  },
  {
   "cell_type": "markdown",
   "id": "bc030883-fd72-4825-90e1-91d29f9d8c83",
   "metadata": {},
   "source": [
    "TensorFlow, a popular open-source machine learning framework developed by the Google Brain team, various data structures are used to represent and manipulate data efficiently. Some of the key data structures in TensorFlow include:\n",
    "\n",
    "Tensors:\n",
    "\n",
    "Tensors are the fundamental building blocks in TensorFlow.\n",
    "They are multi-dimensional arrays with a fixed data type."
   ]
  },
  {
   "cell_type": "code",
   "execution_count": 1,
   "id": "1b0c27a3-f7c9-483b-9682-ec81c2db004a",
   "metadata": {
    "tags": []
   },
   "outputs": [],
   "source": [
    "import tensorflow as tf\n",
    "\n",
    "# Creating tensors\n",
    "tensor_1d = tf.constant([1, 2, 3, 4, 5])\n",
    "tensor_2d = tf.constant([[1, 2, 3], [4, 5, 6]])\n"
   ]
  },
  {
   "cell_type": "markdown",
   "id": "c4107b00-c4cc-4e8b-a4cc-7be5e8c64660",
   "metadata": {
    "tags": []
   },
   "source": [
    "2: Variables:\n",
    "\n",
    "Variables are used to hold and update parameters during training.\n",
    "They are typically used for model parameters like weights and biases."
   ]
  },
  {
   "cell_type": "code",
   "execution_count": 4,
   "id": "d5506145-3b5a-4c63-abbe-642bbe400ed9",
   "metadata": {
    "tags": []
   },
   "outputs": [
    {
     "data": {
      "text/plain": [
       "<tf.Variable 'Variable:0' shape=(3,) dtype=float32, numpy=array([1., 2., 3.], dtype=float32)>"
      ]
     },
     "execution_count": 4,
     "metadata": {},
     "output_type": "execute_result"
    }
   ],
   "source": [
    "variable = tf.Variable(initial_value=[1.0, 2.0, 3.0], trainable=True)\n",
    "variable"
   ]
  },
  {
   "cell_type": "markdown",
   "id": "c68ceb8a-90fa-49ed-b869-19fd4abade92",
   "metadata": {},
   "source": [
    "3 : Constants:\n",
    "\n",
    "Constants are immutable tensors whose values cannot be changed after initialization.\n",
    "They are used for fixed values that do not need to be updated during training."
   ]
  },
  {
   "cell_type": "code",
   "execution_count": 5,
   "id": "1cb48032-57fb-434e-869b-9d1a5680e86d",
   "metadata": {
    "tags": []
   },
   "outputs": [
    {
     "data": {
      "text/plain": [
       "<tf.Tensor: shape=(2,), dtype=float32, numpy=array([3.14, 2.71], dtype=float32)>"
      ]
     },
     "execution_count": 5,
     "metadata": {},
     "output_type": "execute_result"
    }
   ],
   "source": [
    "constant = tf.constant([3.14, 2.71])\n",
    "constant"
   ]
  },
  {
   "cell_type": "markdown",
   "id": "c6fb966b-987f-4e35-ae25-b179e4d4622d",
   "metadata": {},
   "source": [
    "These data structures play a crucial role in constructing and executing computational graphs in TensorFlow, allowing for efficient representation and manipulation of data in the context of machine learning models. Note that the specific APIs and usage may vary between TensorFlow versions."
   ]
  },
  {
   "cell_type": "markdown",
   "id": "f07880ec-0a1c-4499-bf8e-ff4dc7a23340",
   "metadata": {
    "jp-MarkdownHeadingCollapsed": true,
    "tags": []
   },
   "source": [
    "## Cc How does the TensorFlow constant differ from a TensorFlow variable? Explain with an examplec"
   ]
  },
  {
   "cell_type": "markdown",
   "id": "dc012369-f665-4c33-910e-7f45240e6569",
   "metadata": {},
   "source": [
    "Immutability:\n",
    "\n",
    "Constants: Once a constant is created, its value cannot be changed. Constants are used for fixed values that do not need to be updated during training.\n",
    "Variables: Variables, on the other hand, are designed to hold values that may need to be updated and modified during training. They are typically used to represent model parameters like weights and biases.\n",
    "Usage in Training:\n",
    "\n",
    "Constants: Ideal for values that remain constant throughout the training process, such as hyperparameters or fixed data.\n",
    "Variables: Used for trainable parameters that are updated during the training process, such as weights and biases in a neural network.\n",
    "Creation Syntax:\n",
    "\n",
    "Constants: Created using the tf.constant() function, specifying the initial value.\n",
    "Variables: Created using the tf.Variable() class, often with an initial value. Variables can be updated during training using operations like assign or by directly modifying their values."
   ]
  },
  {
   "cell_type": "code",
   "execution_count": 6,
   "id": "d1ef5218-deda-4ed5-ba1f-eaaa76fed6cb",
   "metadata": {
    "tags": []
   },
   "outputs": [
    {
     "name": "stdout",
     "output_type": "stream",
     "text": [
      "Constant Value: [1. 2. 3.]\n",
      "Variable Value: [4. 5. 6.]\n",
      "Constant Value: [1. 2. 3.]\n",
      "Updated Variable Value: [7. 8. 9.]\n"
     ]
    }
   ],
   "source": [
    "import tensorflow as tf\n",
    "\n",
    "\n",
    "constant_value = tf.constant([1.0, 2.0, 3.0], dtype=tf.float32)\n",
    "initial_variable_value = tf.constant([4.0, 5.0, 6.0], dtype=tf.float32)\n",
    "variable = tf.Variable(initial_value=initial_variable_value)\n",
    "\n",
    "print(\"Constant Value:\", constant_value.numpy())\n",
    "print(\"Variable Value:\", variable.numpy())\n",
    "\n",
    "variable.assign([7.0, 8.0, 9.0])\n",
    "\n",
    "print(\"Constant Value:\", constant_value.numpy())\n",
    "print(\"Updated Variable Value:\", variable.numpy())\n"
   ]
  },
  {
   "cell_type": "markdown",
   "id": "75df4b84-dc22-442a-9dc0-713dc88a636c",
   "metadata": {},
   "source": [
    "## =c Describe the process of matrix addition, multiplication, and elementDwise operations in TensorFlow."
   ]
  },
  {
   "cell_type": "markdown",
   "id": "ebd49dd8-9c17-4f53-8dcd-0b76e6811e3e",
   "metadata": {},
   "source": [
    "\n",
    "In TensorFlow, matrix addition, multiplication, and element-wise operations are fundamental operations for manipulating tensors, particularly when working with neural networks and other machine learning models. Let's describe each of these operations:\n",
    "\n"
   ]
  },
  {
   "cell_type": "markdown",
   "id": "ea298c72-315f-466d-aa32-605c23360dee",
   "metadata": {},
   "source": [
    "Matrix Addition:\n",
    "Matrix addition is a straightforward element-wise addition of corresponding elements in two matrices of the same shape. In TensorFlow, you can use the tf.add() function for matrix addition."
   ]
  },
  {
   "cell_type": "code",
   "execution_count": 7,
   "id": "d30c01d7-2f2d-40a1-aa28-7fb3e4b45838",
   "metadata": {
    "tags": []
   },
   "outputs": [
    {
     "name": "stdout",
     "output_type": "stream",
     "text": [
      "Matrix A:\n",
      " [[1 2]\n",
      " [3 4]]\n",
      "Matrix B:\n",
      " [[5 6]\n",
      " [7 8]]\n",
      "Matrix Addition Result:\n",
      " [[ 6  8]\n",
      " [10 12]]\n"
     ]
    }
   ],
   "source": [
    "import tensorflow as tf\n",
    "\n",
    "# Create two matrices\n",
    "matrix_a = tf.constant([[1, 2], [3, 4]])\n",
    "matrix_b = tf.constant([[5, 6], [7, 8]])\n",
    "\n",
    "# Matrix addition\n",
    "result_addition = tf.add(matrix_a, matrix_b)\n",
    "\n",
    "print(\"Matrix A:\\n\", matrix_a.numpy())\n",
    "print(\"Matrix B:\\n\", matrix_b.numpy())\n",
    "print(\"Matrix Addition Result:\\n\", result_addition.numpy())"
   ]
  },
  {
   "cell_type": "markdown",
   "id": "74652841-55ee-4786-a59a-a9f3350b7c8b",
   "metadata": {},
   "source": [
    "Matrix Multiplication:\n",
    "Matrix multiplication involves multiplying the elements of one matrix by the elements of another matrix according to specific rules. In TensorFlow, you can use the tf.matmul() function for matrix multiplication."
   ]
  },
  {
   "cell_type": "code",
   "execution_count": 8,
   "id": "12f00a1e-d2bd-4f8c-918e-8e368724eddc",
   "metadata": {
    "tags": []
   },
   "outputs": [
    {
     "name": "stdout",
     "output_type": "stream",
     "text": [
      "Matrix A:\n",
      " [[1 2]\n",
      " [3 4]]\n",
      "Matrix B:\n",
      " [[5 6]\n",
      " [7 8]]\n",
      "Matrix Multiplication Result:\n",
      " [[19 22]\n",
      " [43 50]]\n"
     ]
    }
   ],
   "source": [
    "# Create two matrices\n",
    "matrix_a = tf.constant([[1, 2], [3, 4]])\n",
    "matrix_b = tf.constant([[5, 6], [7, 8]])\n",
    "\n",
    "# Matrix multiplication\n",
    "result_multiplication = tf.matmul(matrix_a, matrix_b)\n",
    "\n",
    "print(\"Matrix A:\\n\", matrix_a.numpy())\n",
    "print(\"Matrix B:\\n\", matrix_b.numpy())\n",
    "print(\"Matrix Multiplication Result:\\n\", result_multiplication.numpy())\n"
   ]
  },
  {
   "cell_type": "markdown",
   "id": "6115ccdd-17f7-4513-969f-d049db808402",
   "metadata": {},
   "source": [
    "Element-wise Operations:\n",
    "Element-wise operations involve performing a specific operation on corresponding elements of two tensors. TensorFlow supports a variety of element-wise operations, such as addition (tf.add()), subtraction (tf.subtract()), multiplication (tf.multiply()), division (tf.divide()), and more."
   ]
  },
  {
   "cell_type": "code",
   "execution_count": 9,
   "id": "74f8ee93-57b8-4345-9435-1d76f8a095db",
   "metadata": {
    "tags": []
   },
   "outputs": [
    {
     "name": "stdout",
     "output_type": "stream",
     "text": [
      "Matrix A:\n",
      " [[1 2]\n",
      " [3 4]]\n",
      "Matrix B:\n",
      " [[5 6]\n",
      " [7 8]]\n",
      "Element-wise Multiplication Result:\n",
      " [[ 5 12]\n",
      " [21 32]]\n"
     ]
    }
   ],
   "source": [
    "# Create two matrices\n",
    "matrix_a = tf.constant([[1, 2], [3, 4]])\n",
    "matrix_b = tf.constant([[5, 6], [7, 8]])\n",
    "\n",
    "# Element-wise multiplication\n",
    "result_elementwise_multiplication = tf.multiply(matrix_a, matrix_b)\n",
    "\n",
    "print(\"Matrix A:\\n\", matrix_a.numpy())\n",
    "print(\"Matrix B:\\n\", matrix_b.numpy())\n",
    "print(\"Element-wise Multiplication Result:\\n\", result_elementwise_multiplication.numpy())\n"
   ]
  },
  {
   "cell_type": "markdown",
   "id": "b4699712-ee92-4f85-8f92-604a4d8a9a23",
   "metadata": {
    "jp-MarkdownHeadingCollapsed": true,
    "tags": []
   },
   "source": [
    "# PART-2 : PRACTICAL IMPLEMENTATION"
   ]
  },
  {
   "cell_type": "markdown",
   "id": "31852711-1e30-4e56-8c21-b6ebd276bf9a",
   "metadata": {
    "jp-MarkdownHeadingCollapsed": true,
    "tags": []
   },
   "source": [
    "## Talk 1: Creating and Manipulating Matricek"
   ]
  },
  {
   "cell_type": "markdown",
   "id": "abfe5b1b-9b77-432c-931f-f1f3e31ee16b",
   "metadata": {
    "jp-MarkdownHeadingCollapsed": true,
    "tags": []
   },
   "source": [
    "## Tc Create a normal matrix A with dimensions 2x2, using TensorFlow's random_normal function. Display the values of matrix Ac"
   ]
  },
  {
   "cell_type": "code",
   "execution_count": 10,
   "id": "2d36e7de-7e76-4f0e-abf8-63f7cdb97ea0",
   "metadata": {
    "tags": []
   },
   "outputs": [
    {
     "name": "stdout",
     "output_type": "stream",
     "text": [
      "Matrix A:\n",
      " [[ 1.0482087  -0.65394056]\n",
      " [ 0.634363    0.6054456 ]]\n"
     ]
    }
   ],
   "source": [
    "matrix_A = tf.random.normal(shape=(2, 2), mean=0.0, stddev=1.0, dtype=tf.float32)\n",
    "\n",
    "print(\"Matrix A:\\n\", matrix_A.numpy())"
   ]
  },
  {
   "cell_type": "markdown",
   "id": "49a7c947-1b60-46ee-b744-8c82d349e02a",
   "metadata": {
    "jp-MarkdownHeadingCollapsed": true,
    "tags": []
   },
   "source": [
    "## Cc Create a Gaussian matrix B with dimensions x, using TensorFlow's truncated_normal function. Display the values of matrix Bc"
   ]
  },
  {
   "cell_type": "code",
   "execution_count": 11,
   "id": "86271c51-ae1f-4adb-9fcd-ab5db01c7782",
   "metadata": {
    "tags": []
   },
   "outputs": [
    {
     "name": "stdout",
     "output_type": "stream",
     "text": [
      "Matrix B:\n",
      " [[-0.45757392 -0.10285349 -0.29860345]\n",
      " [ 0.03120783 -0.68269473  0.9113709 ]\n",
      " [-0.13505842  0.652817    1.7889283 ]]\n"
     ]
    }
   ],
   "source": [
    "matrix_b = tf.random.truncated_normal(shape=(3,3) , mean=0.0 , stddev=1.0 , dtype=tf.float32)\n",
    "\n",
    "print(\"Matrix B:\\n\" , matrix_b.numpy())"
   ]
  },
  {
   "cell_type": "markdown",
   "id": "56bee068-04cb-40b0-a473-f06062514d65",
   "metadata": {
    "jp-MarkdownHeadingCollapsed": true,
    "tags": []
   },
   "source": [
    "## =c Create a matrix C with dimensions 2x2, where the values are drawn from a normal distribution with a mean of 2 and a standard deviation of 0.x, using TensorFlow's random.normal function. Display the values of matrix Cc"
   ]
  },
  {
   "cell_type": "code",
   "execution_count": 15,
   "id": "d08f3153-663d-41a5-b553-d7b01866e5db",
   "metadata": {
    "tags": []
   },
   "outputs": [
    {
     "name": "stdout",
     "output_type": "stream",
     "text": [
      "Matrix C:\n",
      " [[2.0552678 2.1233082]\n",
      " [1.8495889 1.6727371]]\n"
     ]
    }
   ],
   "source": [
    "matrix_c = tf.random.normal(shape=(2,2) , mean=2 , stddev=0.5)\n",
    "\n",
    "print(\"Matrix C:\\n\" , matrix_c.numpy())"
   ]
  },
  {
   "cell_type": "markdown",
   "id": "65ef5429-f700-4789-9230-e61599070472",
   "metadata": {
    "jp-MarkdownHeadingCollapsed": true,
    "tags": []
   },
   "source": [
    "## ~c Perform matrix addition between matrix A and matrix B, and store the result in matrix Dc"
   ]
  },
  {
   "cell_type": "code",
   "execution_count": 23,
   "id": "941a7302-33de-40e7-b49c-fee7df1963a0",
   "metadata": {
    "tags": []
   },
   "outputs": [],
   "source": [
    "matrix_D = tf.add(matrix_A, matrix_B)"
   ]
  },
  {
   "cell_type": "code",
   "execution_count": 24,
   "id": "258747bb-a3a9-4776-8d17-7d00c148cdde",
   "metadata": {
    "tags": []
   },
   "outputs": [
    {
     "name": "stdout",
     "output_type": "stream",
     "text": [
      "Matrix D (Result of A + B):\n",
      " [[ 0.58284646 -0.09697807]\n",
      " [ 2.6204906   0.09031644]]\n"
     ]
    }
   ],
   "source": [
    "print(\"Matrix D (Result of A + B):\\n\",matrix_D.numpy())"
   ]
  },
  {
   "cell_type": "markdown",
   "id": "998ce51a-c1b5-4374-ba54-ad87d759c1f9",
   "metadata": {
    "jp-MarkdownHeadingCollapsed": true,
    "tags": []
   },
   "source": [
    "## wc Perform matrix multiplication between matrix C and matrix D, and store the result in matrix E."
   ]
  },
  {
   "cell_type": "code",
   "execution_count": 21,
   "id": "2ff3d451-324f-4802-9c63-1844d39b13f7",
   "metadata": {
    "tags": []
   },
   "outputs": [
    {
     "name": "stdout",
     "output_type": "stream",
     "text": [
      "MATRIX E (RESULT OF C * D):\n",
      "\n",
      "[[2.6381142 2.02633  ]\n",
      " [4.4700794 1.7630535]]\n"
     ]
    }
   ],
   "source": [
    "matrix_E = tf.add(matrix_c,matrix_D)\n",
    "\n",
    "print(\"MATRIX E (RESULT OF C * D):\\n\")\n",
    "print(matrix_E.numpy())"
   ]
  },
  {
   "cell_type": "markdown",
   "id": "39ca3b07-fd11-48e9-9564-dd5e8ff11c2a",
   "metadata": {},
   "source": [
    "## TASK-2 : Per;orming Additional Matrix Operationk"
   ]
  },
  {
   "cell_type": "markdown",
   "id": "adf29c0a-87f2-4695-a514-37b72b6d0d82",
   "metadata": {
    "jp-MarkdownHeadingCollapsed": true,
    "tags": []
   },
   "source": [
    "## Tc Create a matrix F with dimensions 2x2, initialized with random values using TensorFlow's random_uniform functionc"
   ]
  },
  {
   "cell_type": "code",
   "execution_count": 26,
   "id": "1500384e-994b-4a82-9ce8-fd8e66a92e9f",
   "metadata": {
    "tags": []
   },
   "outputs": [
    {
     "name": "stdout",
     "output_type": "stream",
     "text": [
      "MATRIX F:\n",
      "\n",
      "[[0.8490422  0.90814507]\n",
      " [0.02607036 0.33539367]]\n"
     ]
    }
   ],
   "source": [
    "matrix_f = tf.random.uniform(shape=(2,2) , minval=0.0 , maxval=1.0 , dtype=tf.float32)\n",
    "\n",
    "print(\"MATRIX F:\\n\")\n",
    "print(matrix_f.numpy())"
   ]
  },
  {
   "cell_type": "markdown",
   "id": "cd5c1841-fe7b-4d5a-928d-d17dab2cd575",
   "metadata": {
    "jp-MarkdownHeadingCollapsed": true,
    "tags": []
   },
   "source": [
    "## Cc Calculate the transpose of matrix F and store the result in matrix Gc"
   ]
  },
  {
   "cell_type": "code",
   "execution_count": 28,
   "id": "44ae4340-5761-442a-b973-b2ccbf4e9da7",
   "metadata": {
    "tags": []
   },
   "outputs": [
    {
     "data": {
      "text/plain": [
       "array([[0.8490422 , 0.02607036],\n",
       "       [0.90814507, 0.33539367]], dtype=float32)"
      ]
     },
     "execution_count": 28,
     "metadata": {},
     "output_type": "execute_result"
    }
   ],
   "source": [
    "matrix_G = tf.transpose(matrix_f)\n",
    "matrix_G.numpy()"
   ]
  },
  {
   "cell_type": "markdown",
   "id": "d485b148-bca5-4b63-b236-d72619c8b934",
   "metadata": {
    "jp-MarkdownHeadingCollapsed": true,
    "tags": []
   },
   "source": [
    "## =c Calculate the elementDwise exponential of matrix F and store the result in matrix Hc"
   ]
  },
  {
   "cell_type": "code",
   "execution_count": 29,
   "id": "46d6e050-b5a1-41b6-aba6-c28820312fe9",
   "metadata": {
    "tags": []
   },
   "outputs": [
    {
     "data": {
      "text/plain": [
       "array([[2.3374069, 2.4797184],\n",
       "       [1.0264132, 1.3984908]], dtype=float32)"
      ]
     },
     "execution_count": 29,
     "metadata": {},
     "output_type": "execute_result"
    }
   ],
   "source": [
    "matrix_H = tf.exp(matrix_f)\n",
    "matrix_H.numpy()"
   ]
  },
  {
   "cell_type": "markdown",
   "id": "91f62045-0417-45a3-b6b9-c4376149f973",
   "metadata": {
    "jp-MarkdownHeadingCollapsed": true,
    "tags": []
   },
   "source": [
    "## ~c Create a matrix I by concatenating matrix F and matrix G horizontallyc"
   ]
  },
  {
   "cell_type": "code",
   "execution_count": 32,
   "id": "9029d3ea-b310-4068-a201-8fc6035a1057",
   "metadata": {
    "tags": []
   },
   "outputs": [
    {
     "data": {
      "text/plain": [
       "array([[0.8490422 , 0.90814507, 0.8490422 , 0.02607036],\n",
       "       [0.02607036, 0.33539367, 0.90814507, 0.33539367]], dtype=float32)"
      ]
     },
     "execution_count": 32,
     "metadata": {},
     "output_type": "execute_result"
    }
   ],
   "source": [
    "matrix_I = tf.concat([matrix_f, matrix_G], axis=1)\n",
    "matrix_I.numpy()"
   ]
  },
  {
   "cell_type": "markdown",
   "id": "6ed5491c-f149-4f93-9422-676e9e11517d",
   "metadata": {
    "jp-MarkdownHeadingCollapsed": true,
    "tags": []
   },
   "source": [
    "## wc Create a matrix J by concatenating matrix F and matrix H vertically."
   ]
  },
  {
   "cell_type": "code",
   "execution_count": 33,
   "id": "01b0b1c1-0384-4d3d-956a-a7e3f06e168d",
   "metadata": {
    "tags": []
   },
   "outputs": [
    {
     "data": {
      "text/plain": [
       "array([[0.8490422 , 0.90814507],\n",
       "       [0.02607036, 0.33539367],\n",
       "       [2.3374069 , 2.4797184 ],\n",
       "       [1.0264132 , 1.3984908 ]], dtype=float32)"
      ]
     },
     "execution_count": 33,
     "metadata": {},
     "output_type": "execute_result"
    }
   ],
   "source": [
    "matrix_J = tf.concat([matrix_f , matrix_H] , axis=0)\n",
    "matrix_J.numpy()"
   ]
  },
  {
   "cell_type": "code",
   "execution_count": null,
   "id": "8b93e7ef-1563-4072-81ec-f14be69f8714",
   "metadata": {},
   "outputs": [],
   "source": []
  }
 ],
 "metadata": {
  "kernelspec": {
   "display_name": "Python 3 (ipykernel)",
   "language": "python",
   "name": "python3"
  },
  "language_info": {
   "codemirror_mode": {
    "name": "ipython",
    "version": 3
   },
   "file_extension": ".py",
   "mimetype": "text/x-python",
   "name": "python",
   "nbconvert_exporter": "python",
   "pygments_lexer": "ipython3",
   "version": "3.11.5"
  }
 },
 "nbformat": 4,
 "nbformat_minor": 5
}
